{
 "cells": [
  {
   "cell_type": "markdown",
   "source": [
    "Create a new Workspace in the Ganache in Initial Phase"
   ],
   "metadata": {
    "collapsed": false
   },
   "id": "411008efc5923b53"
  },
  {
   "cell_type": "markdown",
   "source": [
    "Open a new terminal and navigate to the TrustExaminerBlockChain Folder"
   ],
   "metadata": {
    "collapsed": false
   },
   "id": "14ed9cd1f4e6ac48"
  },
  {
   "cell_type": "code",
   "execution_count": null,
   "id": "initial_id",
   "metadata": {
    "collapsed": true
   },
   "outputs": [],
   "source": [
    "truffle migrate --network trustblockchain"
   ]
  },
  {
   "cell_type": "markdown",
   "source": [
    "The above should deploy the contracts on the Blockchain "
   ],
   "metadata": {
    "collapsed": false
   },
   "id": "c2e4ef8f20a3461"
  },
  {
   "cell_type": "markdown",
   "source": [
    "Now run the Server "
   ],
   "metadata": {
    "collapsed": false
   },
   "id": "e0b6093fb2c87246"
  },
  {
   "cell_type": "code",
   "execution_count": null,
   "outputs": [],
   "source": [
    "python manage.py runserver"
   ],
   "metadata": {
    "collapsed": false
   },
   "id": "6b4274cea07453a8"
  }
 ],
 "metadata": {
  "kernelspec": {
   "display_name": "Python 3",
   "language": "python",
   "name": "python3"
  },
  "language_info": {
   "codemirror_mode": {
    "name": "ipython",
    "version": 2
   },
   "file_extension": ".py",
   "mimetype": "text/x-python",
   "name": "python",
   "nbconvert_exporter": "python",
   "pygments_lexer": "ipython2",
   "version": "2.7.6"
  }
 },
 "nbformat": 4,
 "nbformat_minor": 5
}
